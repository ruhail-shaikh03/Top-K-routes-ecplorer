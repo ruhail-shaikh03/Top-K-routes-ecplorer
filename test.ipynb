{
 "cells": [
  {
   "cell_type": "code",
   "execution_count": 15,
   "metadata": {},
   "outputs": [],
   "source": [
    "import pandas as pd\n",
    "\n",
    "df = pd.read_csv('doctorwho.csv', sep=',')\n",
    "\n",
    "# print(df[\"Source\"])\n",
    "unique_names = pd.concat([df['Source'], df['Target']]).unique()\n",
    "name_to_id = {name: i for i, name in enumerate(unique_names)}\n",
    "\n",
    "output_lines = [\n",
    "    \"# unDirected graph : doctorwho.txt\",\n",
    "    \"# Email network of a large doctors dataset\",\n",
    "    f\"# Nodes: {len(name_to_id)} Edges: {len(df)}\",\n",
    "    \"# FromNodeId\\tToNodeId\"\n",
    "]\n",
    "\n",
    "edges = df.apply(lambda row: f\"{name_to_id[row['Source']]}\\t{name_to_id[row['Target']]}\", axis=1)\n",
    "\n",
    "output_lines.extend(edges.tolist())\n",
    "\n",
    "output_path = 'doctorwho.txt'\n",
    "with open(output_path, 'w') as file:\n",
    "    file.write('\\n'.join(output_lines))\n",
    "\n"
   ]
  }
 ],
 "metadata": {
  "kernelspec": {
   "display_name": "ML",
   "language": "python",
   "name": "python3"
  },
  "language_info": {
   "codemirror_mode": {
    "name": "ipython",
    "version": 3
   },
   "file_extension": ".py",
   "mimetype": "text/x-python",
   "name": "python",
   "nbconvert_exporter": "python",
   "pygments_lexer": "ipython3",
   "version": "3.11.8"
  }
 },
 "nbformat": 4,
 "nbformat_minor": 2
}
